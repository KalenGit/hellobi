{
 "cells": [
  {
   "cell_type": "code",
   "execution_count": 7,
   "metadata": {
    "collapsed": true
   },
   "outputs": [],
   "source": [
    "from __future__ import print_function, division\n",
    "from pyspark import SparkConf, SparkContext\n",
    "from pyspark.sql import SparkSession\n",
    "spark = SparkSession.builder.master(\"local\") \\\n",
    "   .appName(\"test\") \\\n",
    "   .enableHiveSupport() \\\n",
    "   .getOrCreate()\n",
    "\n",
    "sc = spark.sparkContext"
   ]
  },
  {
   "cell_type": "markdown",
   "metadata": {},
   "source": [
    "## Part1. RDD 的基本操作\n",
    "RDD 由於採分散式架構，在計算以及操作是使用 Map 與 Reduce 的方式，與一般單執行緒程式邏輯不同．\n",
    "\n",
    "本節將介紹基本的 Map 與 Reduce 等基本指令，讓各位同學能夠熟悉如何操作 RDD．"
   ]
  },
  {
   "cell_type": "code",
   "execution_count": 94,
   "metadata": {},
   "outputs": [
    {
     "name": "stdout",
     "output_type": "stream",
     "text": [
      "<class 'pyspark.rdd.RDD'>\n"
     ]
    }
   ],
   "source": [
    "wordsList = ['cat', 'elephant', 'rat', 'rat', 'cat']\n",
    "wordsRDD = sc.parallelize(wordsList, 4)\n",
    "print(type(wordsRDD))"
   ]
  },
  {
   "cell_type": "markdown",
   "metadata": {},
   "source": [
    "## map (Transform)\n",
    "map 能將 fuction 套用在 rdd 中的每個元素上"
   ]
  },
  {
   "cell_type": "code",
   "execution_count": 11,
   "metadata": {},
   "outputs": [
    {
     "name": "stdout",
     "output_type": "stream",
     "text": [
      "cats\n"
     ]
    }
   ],
   "source": [
    "def makePlural(word):\n",
    "    \"\"\"Adds an 's' to `word`.\n",
    "\n",
    "    Note:\n",
    "        This is a simple function that only adds an 's'.  No attempt is made to follow proper\n",
    "        pluralization rules.\n",
    "\n",
    "    Args:\n",
    "        word (str): A string.\n",
    "\n",
    "    Returns:\n",
    "        str: A string with 's' added to it.\n",
    "    \"\"\"\n",
    "    return word + 's'\n",
    "\n",
    "print(makePlural('cat'))"
   ]
  },
  {
   "cell_type": "code",
   "execution_count": 12,
   "metadata": {
    "collapsed": true
   },
   "outputs": [],
   "source": [
    "appliedRDD = wordsRDD.map(makePlural)"
   ]
  },
  {
   "cell_type": "code",
   "execution_count": 20,
   "metadata": {},
   "outputs": [
    {
     "name": "stdout",
     "output_type": "stream",
     "text": [
      "<class 'pyspark.rdd.PipelinedRDD'>\n"
     ]
    }
   ],
   "source": [
    "print(type(appliedRDD))"
   ]
  },
  {
   "cell_type": "markdown",
   "metadata": {},
   "source": [
    "## Collect (Action)\n",
    "將 RDD 元素送回 Master 並回傳為 List"
   ]
  },
  {
   "cell_type": "code",
   "execution_count": 14,
   "metadata": {},
   "outputs": [
    {
     "name": "stdout",
     "output_type": "stream",
     "text": [
      "['cats', 'elephants', 'rats', 'rats', 'cats']\n",
      "<type 'list'>\n"
     ]
    }
   ],
   "source": [
    "print(appliedRDD.collect())\n",
    "print(type(appliedRDD.collect()))"
   ]
  },
  {
   "cell_type": "markdown",
   "metadata": {
    "collapsed": true
   },
   "source": [
    "## 使用 Lambda function\n",
    "Lambda function 亦為匿名函數，並不另外定義函數，直接透過 lambda 來宣告函數邏輯．"
   ]
  },
  {
   "cell_type": "code",
   "execution_count": 15,
   "metadata": {},
   "outputs": [
    {
     "name": "stdout",
     "output_type": "stream",
     "text": [
      "['cats', 'elephants', 'rats', 'rats', 'cats']\n"
     ]
    }
   ],
   "source": [
    "lambdaRDD = wordsRDD.map(lambda word: word + 's')\n",
    "print(lambdaRDD.collect())"
   ]
  },
  {
   "cell_type": "markdown",
   "metadata": {
    "collapsed": true
   },
   "source": [
    "### 小練習: 計算每個單字長度"
   ]
  },
  {
   "cell_type": "code",
   "execution_count": 21,
   "metadata": {},
   "outputs": [
    {
     "name": "stdout",
     "output_type": "stream",
     "text": [
      "[3, 8, 3, 3, 3]\n"
     ]
    }
   ],
   "source": [
    "lenofRDD = (wordsRDD\n",
    "            .map(lambda word: len(word))\n",
    "            .collect())\n",
    "print(lenofRDD)"
   ]
  },
  {
   "cell_type": "markdown",
   "metadata": {},
   "source": [
    "## Part2. 使用 Pair RDD 來做計算"
   ]
  },
  {
   "cell_type": "markdown",
   "metadata": {
    "collapsed": true
   },
   "source": [
    "## Pair RDD\n",
    "Pair RDD 是一种以 (key, value) 方式储存的RDD"
   ]
  },
  {
   "cell_type": "code",
   "execution_count": 18,
   "metadata": {
    "collapsed": true
   },
   "outputs": [],
   "source": [
    "pairRDD = wordsRDD.map(lambda word: (word, 1))"
   ]
  },
  {
   "cell_type": "code",
   "execution_count": 25,
   "metadata": {},
   "outputs": [
    {
     "name": "stdout",
     "output_type": "stream",
     "text": [
      "[('cat', 1)]\n",
      "PythonRDD[6] at RDD at PythonRDD.scala:48\n"
     ]
    }
   ],
   "source": [
    "print(pairRDD.take(1))\n",
    "print(pairRDD)"
   ]
  },
  {
   "cell_type": "markdown",
   "metadata": {},
   "source": [
    "## groupByKey(Transform)\n",
    "將資料依照 Key 值重新排序"
   ]
  },
  {
   "cell_type": "code",
   "execution_count": 29,
   "metadata": {},
   "outputs": [
    {
     "name": "stdout",
     "output_type": "stream",
     "text": [
      "rat: [1, 1]\n",
      "elephant: [1]\n",
      "cat: [1, 1]\n"
     ]
    }
   ],
   "source": [
    "wordsGrouped = pairRDD.groupByKey()\n",
    "for key, value in wordsGrouped.collect():\n",
    "    print('{0}: {1}'.format(key, list(value)))\n"
   ]
  },
  {
   "cell_type": "markdown",
   "metadata": {},
   "source": [
    "### 依照 key 值加總"
   ]
  },
  {
   "cell_type": "code",
   "execution_count": 27,
   "metadata": {
    "collapsed": true
   },
   "outputs": [],
   "source": [
    "wordCountsGrouped = wordsGrouped.map(lambda (k,v): (k, sum(v)))"
   ]
  },
  {
   "cell_type": "code",
   "execution_count": 28,
   "metadata": {},
   "outputs": [
    {
     "data": {
      "text/plain": [
       "[('rat', 2), ('elephant', 1), ('cat', 2)]"
      ]
     },
     "execution_count": 28,
     "metadata": {},
     "output_type": "execute_result"
    }
   ],
   "source": [
    "wordCountsGrouped.collect()"
   ]
  },
  {
   "cell_type": "markdown",
   "metadata": {},
   "source": [
    "## 更好的解決方案！\n",
    "## reduceBykey (Transform)\n",
    "reduceByKey 能夠直接將資料根據 key 值聚合，減少多餘的交換(shuffle)動作"
   ]
  },
  {
   "cell_type": "code",
   "execution_count": 33,
   "metadata": {},
   "outputs": [
    {
     "name": "stdout",
     "output_type": "stream",
     "text": [
      "[('rat', 2), ('elephant', 1), ('cat', 2)]\n"
     ]
    }
   ],
   "source": [
    "wordCounts = pairRDD.reduceByKey(lambda a,b: a+b)\n",
    "print(wordCounts.collect())\n"
   ]
  },
  {
   "cell_type": "markdown",
   "metadata": {},
   "source": [
    "### 小練習: 現在你也會寫 wordcount"
   ]
  },
  {
   "cell_type": "code",
   "execution_count": 35,
   "metadata": {
    "collapsed": true
   },
   "outputs": [],
   "source": [
    "wordsList = ['cat', 'elephant', 'rat', 'rat', 'cat']\n",
    "wordRDD = sc.parallelize(wordsList)"
   ]
  },
  {
   "cell_type": "code",
   "execution_count": 36,
   "metadata": {
    "collapsed": true
   },
   "outputs": [],
   "source": [
    "wordCountRDD = (wordRDD\n",
    "                 .map(lambda x: (x, 1))\n",
    "                 .reduceByKey(lambda x ,y : x + y))"
   ]
  },
  {
   "cell_type": "code",
   "execution_count": 37,
   "metadata": {},
   "outputs": [
    {
     "data": {
      "text/plain": [
       "[('rat', 2), ('cat', 2), ('elephant', 1)]"
      ]
     },
     "execution_count": 37,
     "metadata": {},
     "output_type": "execute_result"
    }
   ],
   "source": [
    "wordCountRDD.collect()"
   ]
  },
  {
   "cell_type": "markdown",
   "metadata": {},
   "source": [
    "## Part3. 尋找不重復值\n",
    "RDD 提供了多樣的現成 API 可供使用，建議先查找官方文件瞭解現有的 API，避免重復造輪．"
   ]
  },
  {
   "cell_type": "markdown",
   "metadata": {},
   "source": [
    "## disticnt (Transform)"
   ]
  },
  {
   "cell_type": "code",
   "execution_count": 40,
   "metadata": {},
   "outputs": [
    {
     "name": "stdout",
     "output_type": "stream",
     "text": [
      "[('elephant', 1), ('cat', 1), ('rat', 1)]\n"
     ]
    }
   ],
   "source": [
    "uniqueWords = wordsRDD.map(lambda word: (word, 1)).distinct()\n",
    "print(uniqueWords.collect())\n"
   ]
  },
  {
   "cell_type": "code",
   "execution_count": 42,
   "metadata": {
    "collapsed": true
   },
   "outputs": [],
   "source": [
    "### count (action)"
   ]
  },
  {
   "cell_type": "code",
   "execution_count": 45,
   "metadata": {},
   "outputs": [
    {
     "name": "stdout",
     "output_type": "stream",
     "text": [
      "3\n"
     ]
    }
   ],
   "source": [
    "countUniqueWords = wordsRDD.map(lambda word: (word, 1)).distinct().count()\n",
    "print(countUniqueWords)"
   ]
  },
  {
   "cell_type": "markdown",
   "metadata": {},
   "source": [
    "### 小作業: 計算每個字平均出現幾次"
   ]
  },
  {
   "cell_type": "code",
   "execution_count": 61,
   "metadata": {
    "collapsed": true
   },
   "outputs": [],
   "source": [
    "wordsCount = [('cat',2),('elephant',1),('rat',2)]"
   ]
  },
  {
   "cell_type": "code",
   "execution_count": 62,
   "metadata": {
    "collapsed": true
   },
   "outputs": [],
   "source": [
    "wordCountRDD = sc.parallelize(wordsCount)"
   ]
  },
  {
   "cell_type": "code",
   "execution_count": 63,
   "metadata": {
    "collapsed": true
   },
   "outputs": [],
   "source": [
    "totalCount = (wordCountRDD\n",
    "                .map(lambda (x,y): y)\n",
    "                .reduce(lambda x, y: x + y))"
   ]
  },
  {
   "cell_type": "code",
   "execution_count": 66,
   "metadata": {
    "collapsed": true
   },
   "outputs": [],
   "source": [
    "average = totalCount / (wordCountRDD.distinct().count())"
   ]
  },
  {
   "cell_type": "code",
   "execution_count": 67,
   "metadata": {},
   "outputs": [
    {
     "name": "stdout",
     "output_type": "stream",
     "text": [
      "1.66666666667\n"
     ]
    }
   ],
   "source": [
    "print(average)"
   ]
  },
  {
   "cell_type": "markdown",
   "metadata": {},
   "source": [
    "## Part4.  Rdd 也可以當作函數的參數"
   ]
  },
  {
   "cell_type": "code",
   "execution_count": 71,
   "metadata": {
    "collapsed": true
   },
   "outputs": [],
   "source": [
    "def wordCount(wordListRDD):\n",
    "    \"\"\"Creates a pair RDD with word counts from an RDD of words.\n",
    "\n",
    "    Args:\n",
    "        wordListRDD (RDD of str): An RDD consisting of words.\n",
    "\n",
    "    Returns:\n",
    "        RDD of (str, int): An RDD consisting of (word, count) tuples.\n",
    "    \"\"\"\n",
    "    return (wordListRDD\n",
    "           .map(lambda a : (a,1))\n",
    "           .reduceByKey(lambda a,b: a+b))\n"
   ]
  },
  {
   "cell_type": "code",
   "execution_count": 70,
   "metadata": {},
   "outputs": [
    {
     "name": "stdout",
     "output_type": "stream",
     "text": [
      "[('rat', 2), ('elephant', 1), ('cat', 2)]\n"
     ]
    }
   ],
   "source": [
    "wordsList = ['cat', 'elephant', 'rat', 'rat', 'cat']\n",
    "wordsRDD = sc.parallelize(wordsList, 4)\n",
    "print(wordCount(wordsRDD).collect())"
   ]
  },
  {
   "cell_type": "markdown",
   "metadata": {},
   "source": [
    "## Part5. 與 python library 互動\n",
    "使用 pyspark 最方便的地方就是在於可以直接引用 python 的庫，並用在 map 或 reduce 中"
   ]
  },
  {
   "cell_type": "code",
   "execution_count": 80,
   "metadata": {},
   "outputs": [
    {
     "name": "stdout",
     "output_type": "stream",
     "text": [
      "5\n"
     ]
    }
   ],
   "source": [
    "from operator import add\n",
    "\n",
    "totalCount = (wordCounts\n",
    "              .map(lambda (a,b): b)\n",
    "              .reduce(add))\n",
    "\n",
    "print(totalCount)\n"
   ]
  },
  {
   "cell_type": "markdown",
   "metadata": {},
   "source": [
    "## Part6. Text Mining\n",
    "結合目前的課程，最後帶大家做個 Text Mining 的例子．\n",
    "需要讀取一個外部 text 文字檔，清理文檔內容，計算使用頻次最高的幾個詞．"
   ]
  },
  {
   "cell_type": "markdown",
   "metadata": {},
   "source": [
    "### 6.1 去除符号"
   ]
  },
  {
   "cell_type": "code",
   "execution_count": 81,
   "metadata": {},
   "outputs": [
    {
     "name": "stdout",
     "output_type": "stream",
     "text": [
      "hi you\n",
      "no underscore\n"
     ]
    }
   ],
   "source": [
    "import re\n",
    "def removePunctuation(text):\n",
    "    \"\"\"Removes punctuation, changes to lower case, and strips leading and trailing spaces.\n",
    "\n",
    "    Note:\n",
    "        Only spaces, letters, and numbers should be retained.  Other characters should should be\n",
    "        eliminated (e.g. it's becomes its).  Leading and trailing spaces should be removed after\n",
    "        punctuation is removed.\n",
    "\n",
    "    Args:\n",
    "        text (str): A string.\n",
    "\n",
    "    Returns:\n",
    "        str: The cleaned up string.\n",
    "    \"\"\"\n",
    "    return re.sub(\"[^a-zA-Z0-9 ]\", \"\", text.strip(\" \").lower())\n",
    "print(removePunctuation('Hi, you!'))\n",
    "print(removePunctuation(' No under_score!'))"
   ]
  },
  {
   "cell_type": "markdown",
   "metadata": {},
   "source": [
    "### 6.2 從 HDFS 讀取檔案"
   ]
  },
  {
   "cell_type": "code",
   "execution_count": 85,
   "metadata": {},
   "outputs": [
    {
     "name": "stdout",
     "output_type": "stream",
     "text": [
      "the tillage of thy husbandry?\r\n",
      "  Or who is he so fond will be the tomb,\r\n",
      "  Of his self-love to stop posterity?\r\n",
      "  Thou art thy mother's glass and she in thee\r\n",
      "  Calls back the lovely April of her prime,\r\n",
      "  So thou through windows of thine age shalt see,\r\n",
      "  Despite of wrinkles this thy golden time.\r\n",
      "    But if thou live remembered not to be,\r\n",
      "    Die single and thine image dies with thee.\r\n",
      "\r\n",
      "\r\n",
      "                     4\r\n",
      "  Unthrifty loveliness why dost thou spend,\r\n",
      "  Upon thy self thy beauty's legacy?\r\n",
      "  Nature's bequest gives nothing but doth lend,\r\n",
      "  And being frank she lends to those are free:\r\n",
      "  Then beauteous niggard why dost thou abuse,\r\n",
      "  The bounteous largess given thee to give?\r\n",
      "  Profitless usurer why dost thou use\r\n",
      "  So great a sum of sums yet canst not live?\r\n",
      "  For having traffic with thy self alone,\r\n",
      "  Thou of thy self thy sweet self dost deceive,\r\n",
      "  Then how when nature calls thee to be gone,\r\n",
      "  What acceptable audit canst thou leave?\r\n",
      "    Thy unused beauty must be tombed with thee,\r\n",
      "    Which used lives th' executor to be.\r\n"
     ]
    }
   ],
   "source": [
    "!hadoop fs -tail /tmp/shakespear.txt"
   ]
  },
  {
   "cell_type": "code",
   "execution_count": 86,
   "metadata": {
    "collapsed": true
   },
   "outputs": [],
   "source": [
    "filepath = \"hdfs:///tmp/shakespear.txt\"\n",
    "shakespeareRDD = (sc\n",
    "                  .textFile(filepath)\n",
    "                  .map(removePunctuation))"
   ]
  },
  {
   "cell_type": "code",
   "execution_count": 87,
   "metadata": {},
   "outputs": [
    {
     "data": {
      "text/plain": [
       "[u'1609',\n",
       " u'',\n",
       " u'the sonnets',\n",
       " u'',\n",
       " u'by william shakespeare',\n",
       " u'',\n",
       " u'',\n",
       " u'',\n",
       " u'1',\n",
       " u'from fairest creatures we desire increase',\n",
       " u'that thereby beautys rose might never die',\n",
       " u'but as the riper should by time decease',\n",
       " u'his tender heir might bear his memory',\n",
       " u'but thou contracted to thine own bright eyes',\n",
       " u'feedst thy lights flame with selfsubstantial fuel',\n",
       " u'making a famine where abundance lies',\n",
       " u'thy self thy foe to thy sweet self too cruel',\n",
       " u'thou that art now the worlds fresh ornament',\n",
       " u'and only herald to the gaudy spring',\n",
       " u'within thine own bud buriest thy content',\n",
       " u'and tender churl makst waste in niggarding',\n",
       " u'pity the world or else this glutton be',\n",
       " u'to eat the worlds due by the grave and thee',\n",
       " u'',\n",
       " u'',\n",
       " u'2',\n",
       " u'when forty winters shall besiege thy brow',\n",
       " u'and dig deep trenches in thy beautys field',\n",
       " u'thy youths proud livery so gazed on now',\n",
       " u'will be a tattered weed of small worth held',\n",
       " u'then being asked where all thy beauty lies',\n",
       " u'where all the treasure of thy lusty days',\n",
       " u'to say within thine own deep sunken eyes',\n",
       " u'were an alleating shame and thriftless praise',\n",
       " u'how much more praise deserved thy beautys use',\n",
       " u'if thou couldst answer this fair child of mine',\n",
       " u'shall sum my count and make my old excuse',\n",
       " u'proving his beauty by succession thine',\n",
       " u'this were to be new made when thou art old',\n",
       " u'and see thy blood warm when thou feelst it cold',\n",
       " u'',\n",
       " u'',\n",
       " u'3',\n",
       " u'look in thy glass and tell the face thou viewest',\n",
       " u'now is the time that face should form another',\n",
       " u'whose fresh repair if now thou not renewest',\n",
       " u'thou dost beguile the world unbless some mother',\n",
       " u'for where is she so fair whose uneared womb',\n",
       " u'disdains the tillage of thy husbandry',\n",
       " u'or who is he so fond will be the tomb',\n",
       " u'of his selflove to stop posterity',\n",
       " u'thou art thy mothers glass and she in thee',\n",
       " u'calls back the lovely april of her prime',\n",
       " u'so thou through windows of thine age shalt see',\n",
       " u'despite of wrinkles this thy golden time',\n",
       " u'but if thou live remembered not to be',\n",
       " u'die single and thine image dies with thee',\n",
       " u'',\n",
       " u'',\n",
       " u'4',\n",
       " u'unthrifty loveliness why dost thou spend',\n",
       " u'upon thy self thy beautys legacy',\n",
       " u'natures bequest gives nothing but doth lend',\n",
       " u'and being frank she lends to those are free',\n",
       " u'then beauteous niggard why dost thou abuse',\n",
       " u'the bounteous largess given thee to give',\n",
       " u'profitless usurer why dost thou use',\n",
       " u'so great a sum of sums yet canst not live',\n",
       " u'for having traffic with thy self alone',\n",
       " u'thou of thy self thy sweet self dost deceive',\n",
       " u'then how when nature calls thee to be gone',\n",
       " u'what acceptable audit canst thou leave',\n",
       " u'thy unused beauty must be tombed with thee',\n",
       " u'which used lives th executor to be']"
      ]
     },
     "execution_count": 87,
     "metadata": {},
     "output_type": "execute_result"
    }
   ],
   "source": [
    "shakespeareRDD.collect()"
   ]
  },
  {
   "cell_type": "code",
   "execution_count": 90,
   "metadata": {},
   "outputs": [
    {
     "name": "stdout",
     "output_type": "stream",
     "text": [
      "0: 1609\n",
      "1: \n",
      "2: the sonnets\n",
      "3: \n",
      "4: by william shakespeare\n",
      "5: \n",
      "6: \n",
      "7: \n",
      "8: 1\n",
      "9: from fairest creatures we desire increase\n",
      "10: that thereby beautys rose might never die\n",
      "11: but as the riper should by time decease\n",
      "12: his tender heir might bear his memory\n",
      "13: but thou contracted to thine own bright eyes\n",
      "14: feedst thy lights flame with selfsubstantial fuel\n"
     ]
    }
   ],
   "source": [
    "print('\\n'.join(shakespeareRDD\n",
    "                .zipWithIndex()  # to (line, lineNum)\n",
    "                .map(lambda (l, num): '{0}: {1}'.format(num, l))  # to 'lineNum: line'\n",
    "                .take(15)))"
   ]
  },
  {
   "cell_type": "markdown",
   "metadata": {},
   "source": [
    "### 6.3 切詞"
   ]
  },
  {
   "cell_type": "code",
   "execution_count": 91,
   "metadata": {},
   "outputs": [
    {
     "name": "stdout",
     "output_type": "stream",
     "text": [
      "[u'youths', u'yet', u'wrinkles', u'worth', u'worlds']\n",
      "461\n"
     ]
    }
   ],
   "source": [
    "shakespeareWordsRDD = shakespeareRDD.flatMap(lambda a: a.split(\" \"))\n",
    "shakespeareWordCount = shakespeareWordsRDD.count()\n",
    "print(shakespeareWordsRDD.top(5))\n",
    "print(shakespeareWordCount)"
   ]
  },
  {
   "cell_type": "markdown",
   "metadata": {},
   "source": [
    "### 6.4 移除空白值"
   ]
  },
  {
   "cell_type": "code",
   "execution_count": 92,
   "metadata": {},
   "outputs": [
    {
     "name": "stdout",
     "output_type": "stream",
     "text": [
      "450\n"
     ]
    }
   ],
   "source": [
    "shakeWordsRDD = shakespeareWordsRDD.filter(lambda word: len(word) > 0)\n",
    "shakeWordCount = shakeWordsRDD.count()\n",
    "print(shakeWordCount)\n"
   ]
  },
  {
   "cell_type": "markdown",
   "metadata": {},
   "source": [
    "### 6.5 計算字詞數並排序"
   ]
  },
  {
   "cell_type": "code",
   "execution_count": 93,
   "metadata": {},
   "outputs": [
    {
     "name": "stdout",
     "output_type": "stream",
     "text": [
      "thy: 22\n",
      "thou: 16\n",
      "the: 15\n",
      "to: 12\n",
      "and: 11\n",
      "of: 10\n",
      "be: 8\n",
      "thee: 6\n",
      "thine: 6\n",
      "self: 6\n",
      "dost: 5\n",
      "so: 5\n",
      "his: 4\n",
      "now: 4\n",
      "where: 4\n"
     ]
    }
   ],
   "source": [
    "top15WordsAndCounts = wordCount(shakeWordsRDD).takeOrdered(15, lambda (a,b): -b)\n",
    "print('\\n'.join(map(lambda (w, c): '{0}: {1}'.format(w, c), top15WordsAndCounts)))"
   ]
  },
  {
   "cell_type": "code",
   "execution_count": null,
   "metadata": {
    "collapsed": true
   },
   "outputs": [],
   "source": []
  }
 ],
 "metadata": {
  "kernelspec": {
   "display_name": "Python 3",
   "language": "python",
   "name": "python3"
  },
  "language_info": {
   "codemirror_mode": {
    "name": "ipython",
    "version": 3
   },
   "file_extension": ".py",
   "mimetype": "text/x-python",
   "name": "python",
   "nbconvert_exporter": "python",
   "pygments_lexer": "ipython3",
   "version": "3.5.4"
  }
 },
 "nbformat": 4,
 "nbformat_minor": 2
}
